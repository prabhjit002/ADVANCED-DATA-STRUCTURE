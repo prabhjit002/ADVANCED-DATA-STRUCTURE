{
  "nbformat": 4,
  "nbformat_minor": 0,
  "metadata": {
    "colab": {
      "provenance": [],
      "authorship_tag": "ABX9TyMH/+XivQPvyPrwIrMSjFF7",
      "include_colab_link": true
    },
    "kernelspec": {
      "name": "python3",
      "display_name": "Python 3"
    },
    "language_info": {
      "name": "python"
    }
  },
  "cells": [
    {
      "cell_type": "markdown",
      "metadata": {
        "id": "view-in-github",
        "colab_type": "text"
      },
      "source": [
        "<a href=\"https://colab.research.google.com/github/prabhjit002/ADVANCED-DATA-STRUCTURE/blob/main/BUBBLE.ipynb\" target=\"_parent\"><img src=\"https://colab.research.google.com/assets/colab-badge.svg\" alt=\"Open In Colab\"/></a>"
      ]
    },
    {
      "cell_type": "markdown",
      "source": [
        "BUBBLE\n",
        " SORT"
      ],
      "metadata": {
        "id": "_1MJbumiXFx_"
      }
    },
    {
      "cell_type": "code",
      "execution_count": 1,
      "metadata": {
        "colab": {
          "base_uri": "https://localhost:8080/"
        },
        "id": "eMzjbNv7WH0r",
        "outputId": "2158a620-7d8d-4fb9-ee6a-8fd2be076731"
      },
      "outputs": [
        {
          "output_type": "stream",
          "name": "stdout",
          "text": [
            "Before sorting array elements are - \n",
            "35 10 31 11 26 \n",
            "After sorting array elements are - \n",
            "10 11 26 31 35 "
          ]
        }
      ],
      "source": [
        "a = [35, 10, 31, 11, 26]\n",
        "print(\"Before sorting array elements are - \")\n",
        "for i in a:\n",
        "    print(i, end = \" \")\n",
        "for i in range(0,len(a)):\n",
        "    for j in range(i+1,len(a)):\n",
        "        if a[j]<a[i]:\n",
        "            temp = a[j]\n",
        "            a[j]=a[i]\n",
        "            a[i]=temp\n",
        "print(\"\\nAfter sorting array elements are - \")\n",
        "for i in a:\n",
        "    print(i, end = \" \")"
      ]
    }
  ]
}