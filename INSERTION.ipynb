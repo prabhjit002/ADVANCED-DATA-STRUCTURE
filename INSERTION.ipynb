{
  "nbformat": 4,
  "nbformat_minor": 0,
  "metadata": {
    "colab": {
      "provenance": [],
      "authorship_tag": "ABX9TyPA9lhr41EB8qAJftHNK7Wi",
      "include_colab_link": true
    },
    "kernelspec": {
      "name": "python3",
      "display_name": "Python 3"
    },
    "language_info": {
      "name": "python"
    }
  },
  "cells": [
    {
      "cell_type": "markdown",
      "metadata": {
        "id": "view-in-github",
        "colab_type": "text"
      },
      "source": [
        "<a href=\"https://colab.research.google.com/github/prabhjit002/ADVANCED-DATA-STRUCTURE/blob/main/INSERTION.ipynb\" target=\"_parent\"><img src=\"https://colab.research.google.com/assets/colab-badge.svg\" alt=\"Open In Colab\"/></a>"
      ]
    },
    {
      "cell_type": "markdown",
      "source": [
        "INSERTION\n"
      ],
      "metadata": {
        "id": "p9gvS9RaYxxV"
      }
    },
    {
      "cell_type": "code",
      "execution_count": 1,
      "metadata": {
        "colab": {
          "base_uri": "https://localhost:8080/"
        },
        "id": "3WDQ9WvKYv_S",
        "outputId": "e94e9eea-ea29-4673-ef68-9556b884f4e2"
      },
      "outputs": [
        {
          "output_type": "stream",
          "name": "stdout",
          "text": [
            "Before sorting array elements are - \n",
            "70 15 2 51 60 \n",
            "After sorting array elements are - \n",
            "2 15 51 60 70 "
          ]
        }
      ],
      "source": [
        "def insertionSort(a): # Function to implement insertion sort\n",
        "    for i in range(1, len(a)):\n",
        "        temp = a[i]\n",
        "\n",
        "        # Move the elements greater than temp to one position\n",
        "        #ahead from their current position\n",
        "        j = i-1\n",
        "        while j >= 0 and temp < a[j] :\n",
        "                a[j + 1] = a[j]\n",
        "                j = j-1\n",
        "        a[j + 1] = temp\n",
        "\n",
        "def printArr(a): # function to print the array\n",
        "\n",
        "    for i in range(len(a)):\n",
        "        print (a[i], end = \" \")\n",
        "\n",
        "a = [70, 15, 2, 51, 60]\n",
        "print(\"Before sorting array elements are - \")\n",
        "printArr(a)\n",
        "insertionSort(a)\n",
        "print(\"\\nAfter sorting array elements are - \")\n",
        "printArr(a)"
      ]
    }
  ]
}